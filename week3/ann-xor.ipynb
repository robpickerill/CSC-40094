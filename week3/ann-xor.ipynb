{
 "cells": [
  {
   "cell_type": "code",
   "execution_count": 5,
   "metadata": {},
   "outputs": [
    {
     "name": "stdout",
     "output_type": "stream",
     "text": [
      "Input Feature shape (1, 2)\n",
      "(2, 4)\n",
      "(2,)\n"
     ]
    },
    {
     "ename": "ValueError",
     "evalue": "operands could not be broadcast together with shapes (1,4) (2,) ",
     "output_type": "error",
     "traceback": [
      "\u001b[0;31m---------------------------------------------------------------------------\u001b[0m",
      "\u001b[0;31mValueError\u001b[0m                                Traceback (most recent call last)",
      "Cell \u001b[0;32mIn[5], line 21\u001b[0m\n\u001b[1;32m     19\u001b[0m \u001b[38;5;28mprint\u001b[39m(hidden_layer_weights\u001b[38;5;241m.\u001b[39mshape)\n\u001b[1;32m     20\u001b[0m \u001b[38;5;28mprint\u001b[39m( (hidden_layer_weights[:, \u001b[38;5;241m0\u001b[39m])\u001b[38;5;241m.\u001b[39mshape)\n\u001b[0;32m---> 21\u001b[0m h \u001b[38;5;241m=\u001b[39m \u001b[43mnp\u001b[49m\u001b[38;5;241;43m.\u001b[39;49m\u001b[43mdot\u001b[49m\u001b[43m(\u001b[49m\u001b[43minput_features\u001b[49m\u001b[43m \u001b[49m\u001b[43m,\u001b[49m\u001b[43m \u001b[49m\u001b[43mhidden_layer_weights\u001b[49m\u001b[43m)\u001b[49m\u001b[43m \u001b[49m\u001b[38;5;241;43m+\u001b[39;49m\u001b[43mbias_hidden_layer\u001b[49m\n\u001b[1;32m     22\u001b[0m h \u001b[38;5;241m=\u001b[39m relu(h)\n\u001b[1;32m     23\u001b[0m \u001b[38;5;28mprint\u001b[39m(\u001b[38;5;124m'\u001b[39m\u001b[38;5;124mh=\u001b[39m\u001b[38;5;124m'\u001b[39m, h)\n",
      "\u001b[0;31mValueError\u001b[0m: operands could not be broadcast together with shapes (1,4) (2,) "
     ]
    }
   ],
   "source": [
    "\"\"\"\n",
    "Created on Tue Feb 15 17:56:17 2022\n",
    "@credits: Goodfellow et al. 2016\n",
    "additional resource: https://towardsdatascience.com/how-neural-networks-solve-the-xor-problem-59763136bdd7\n",
    "\"\"\"\n",
    "\n",
    "# This functions implements the XOR function using neural network when the weights already given\n",
    "import numpy as np\n",
    "\n",
    "def relu(X):\n",
    "  return np.maximum(0,X)\n",
    "\n",
    "#input_features = np.array([[0,0],[0,1], [1,0], [1,1]])\n",
    "input_features = np.array([[0,1]])\n",
    "print('Input Feature shape', input_features.shape)\n",
    "hidden_layer_weights = np.array([[1,1],[1,1]])\n",
    "bias_hidden_layer = [0, -1]\n",
    "\n",
    "#print(hidden_layer_weights.shape)\n",
    "#print( (hidden_layer_weights[:, 0]).shape)\n",
    "h = np.dot(input_features , hidden_layer_weights) +bias_hidden_layer\n",
    "h = relu(h)\n",
    "print('h=', h)\n",
    "h1 = h[:,0]\n",
    "h2 = h[:,1]\n",
    "\n",
    "#print(h.shape)\n",
    "output_layer_weights = np.array([[1,-2]])\n",
    "bias_output =0\n",
    "final_output =relu((np.dot(h1, output_layer_weights[:,0]) + np.dot(h2, output_layer_weights[:,1])+bias_output))\n",
    "print('Final Output', final_output)\n"
   ]
  },
  {
   "cell_type": "code",
   "execution_count": null,
   "metadata": {},
   "outputs": [],
   "source": []
  }
 ],
 "metadata": {
  "kernelspec": {
   "display_name": ".venv",
   "language": "python",
   "name": "python3"
  },
  "language_info": {
   "codemirror_mode": {
    "name": "ipython",
    "version": 3
   },
   "file_extension": ".py",
   "mimetype": "text/x-python",
   "name": "python",
   "nbconvert_exporter": "python",
   "pygments_lexer": "ipython3",
   "version": "3.9.6"
  }
 },
 "nbformat": 4,
 "nbformat_minor": 2
}
