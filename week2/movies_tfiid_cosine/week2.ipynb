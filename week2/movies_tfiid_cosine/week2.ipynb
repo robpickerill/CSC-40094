{
 "cells": [
  {
   "cell_type": "code",
   "execution_count": 14,
   "metadata": {},
   "outputs": [
    {
     "name": "stdout",
     "output_type": "stream",
     "text": [
      "\n",
      "---Mapping of vectors to words---\n",
      "\n",
      "   fruit  harry  jane  julie  kiwi  likes  linda  loves\n",
      "0      0      0     0      1     0      0      1      2\n",
      "1      0      0     1      1     0      1      0      1\n",
      "2      1      1     0      0     1      1      0      0\n",
      "\n",
      "--Cosine similarity using cosine similarity function:--\n",
      " [[1.         0.61237244 0.        ]\n",
      " [0.61237244 1.         0.25      ]\n",
      " [0.         0.25       1.        ]]\n",
      "\n",
      "--Cosine similarity using Linear Kernel function:--\n",
      " [[6. 3. 0.]\n",
      " [3. 4. 1.]\n",
      " [0. 1. 4.]]\n"
     ]
    }
   ],
   "source": [
    "import pandas as pd\n",
    "from sklearn.feature_extraction.text import CountVectorizer\n",
    "\n",
    "# Import linear_kernel\n",
    "from sklearn.metrics.pairwise import linear_kernel\n",
    "from sklearn.metrics.pairwise import cosine_similarity\n",
    "\n",
    "corpus=[ 'Julie loves me more than Linda loves me',\n",
    "'Jane likes me more than Julie loves me',\n",
    "'harry likes kiwi fruit']\n",
    "\n",
    "# Creating count vectorizer object\n",
    "vectorizer = CountVectorizer(stop_words='english')\n",
    "vectors = vectorizer.fit_transform(corpus)\n",
    "\n",
    "# Get the feature names (unique words)\n",
    "feature_names = vectorizer.get_feature_names_out()\n",
    "\n",
    "# Create a DataFrame to display the mapping\n",
    "df = pd.DataFrame(vectors.toarray(), columns=feature_names)\n",
    "print(\"\\n---Mapping of vectors to words---\\n\")\n",
    "print(df)\n",
    "\n",
    "#Compute similarity score\n",
    "cosine_sim = cosine_similarity(vectors, vectors)\n",
    "cosine_sim2 = linear_kernel(vectors, vectors)\n",
    "print('\\n--Cosine similarity using cosine similarity function:--\\n',cosine_sim)\n",
    "print('\\n--Cosine similarity using Linear Kernel function:--\\n',cosine_sim2)"
   ]
  },
  {
   "cell_type": "code",
   "execution_count": 15,
   "metadata": {},
   "outputs": [
    {
     "name": "stdout",
     "output_type": "stream",
     "text": [
      "\n",
      "---Mapping of vectors to words---\n",
      "\n",
      "      fruit     harry      jane     julie      kiwi     likes    linda  \\\n",
      "0  0.000000  0.000000  0.000000  0.385503  0.000000  0.000000  0.50689   \n",
      "1  0.000000  0.000000  0.604652  0.459854  0.000000  0.459854  0.00000   \n",
      "2  0.528635  0.528635  0.000000  0.000000  0.528635  0.402040  0.00000   \n",
      "\n",
      "      loves  \n",
      "0  0.771006  \n",
      "1  0.459854  \n",
      "2  0.000000  \n",
      "\n",
      "--Cosine similarity using cosine similarity function:--\n",
      " [[1.         0.53182464 0.        ]\n",
      " [0.53182464 1.         0.18487962]\n",
      " [0.         0.18487962 1.        ]]\n",
      "\n",
      "--Cosine similarity using Linear Kernel function:--\n",
      " [[1.         0.53182464 0.        ]\n",
      " [0.53182464 1.         0.18487962]\n",
      " [0.         0.18487962 1.        ]]\n"
     ]
    }
   ],
   "source": [
    "import pandas as pd\n",
    "from sklearn.feature_extraction.text import TfidfVectorizer\n",
    "\n",
    "# Import linear_kernel\n",
    "from sklearn.metrics.pairwise import linear_kernel\n",
    "from sklearn.metrics.pairwise import cosine_similarity\n",
    "\n",
    "corpus=[ 'Julie loves me more than Linda loves me',\n",
    "'Jane likes me more than Julie loves me',\n",
    "'harry likes kiwi fruit']\n",
    "\n",
    "# Creating count vectorizer object\n",
    "vectorizer = TfidfVectorizer(stop_words='english')\n",
    "vectors = vectorizer.fit_transform(corpus)\n",
    "\n",
    "# Get the feature names (unique words)\n",
    "feature_names = vectorizer.get_feature_names_out()\n",
    "\n",
    "# Create a DataFrame to display the mapping\n",
    "df = pd.DataFrame(vectors.toarray(), columns=feature_names)\n",
    "print(\"\\n---Mapping of vectors to words---\\n\")\n",
    "print(df)\n",
    "\n",
    "#Compute similarity score\n",
    "cosine_sim = cosine_similarity(vectors, vectors)\n",
    "cosine_sim2 = linear_kernel(vectors, vectors)\n",
    "print('\\n--Cosine similarity using cosine similarity function:--\\n',cosine_sim)\n",
    "print('\\n--Cosine similarity using Linear Kernel function:--\\n',cosine_sim2)"
   ]
  },
  {
   "cell_type": "code",
   "execution_count": 16,
   "metadata": {},
   "outputs": [
    {
     "name": "stdout",
     "output_type": "stream",
     "text": [
      "   adult                              belongs_to_collection    budget  \\\n",
      "0  False  {'id': 10194, 'name': 'Toy Story Collection', ...  30000000   \n",
      "1  False                                                NaN  65000000   \n",
      "2  False  {'id': 119050, 'name': 'Grumpy Old Men Collect...         0   \n",
      "\n",
      "                                              genres  \\\n",
      "0  [{'id': 16, 'name': 'Animation'}, {'id': 35, '...   \n",
      "1  [{'id': 12, 'name': 'Adventure'}, {'id': 14, '...   \n",
      "2  [{'id': 10749, 'name': 'Romance'}, {'id': 35, ...   \n",
      "\n",
      "                               homepage     id    imdb_id original_language  \\\n",
      "0  http://toystory.disney.com/toy-story    862  tt0114709                en   \n",
      "1                                   NaN   8844  tt0113497                en   \n",
      "2                                   NaN  15602  tt0113228                en   \n",
      "\n",
      "     original_title                                           overview  ...  \\\n",
      "0         Toy Story  Led by Woody, Andy's toys live happily in his ...  ...   \n",
      "1           Jumanji  When siblings Judy and Peter discover an encha...  ...   \n",
      "2  Grumpier Old Men  A family wedding reignites the ancient feud be...  ...   \n",
      "\n",
      "  release_date      revenue runtime  \\\n",
      "0   1995-10-30  373554033.0    81.0   \n",
      "1   1995-12-15  262797249.0   104.0   \n",
      "2   1995-12-22          0.0   101.0   \n",
      "\n",
      "                                    spoken_languages    status  \\\n",
      "0           [{'iso_639_1': 'en', 'name': 'English'}]  Released   \n",
      "1  [{'iso_639_1': 'en', 'name': 'English'}, {'iso...  Released   \n",
      "2           [{'iso_639_1': 'en', 'name': 'English'}]  Released   \n",
      "\n",
      "                                             tagline             title  video  \\\n",
      "0                                                NaN         Toy Story  False   \n",
      "1          Roll the dice and unleash the excitement!           Jumanji  False   \n",
      "2  Still Yelling. Still Fighting. Still Ready for...  Grumpier Old Men  False   \n",
      "\n",
      "  vote_average vote_count  \n",
      "0          7.7     5415.0  \n",
      "1          6.9     2413.0  \n",
      "2          6.5       92.0  \n",
      "\n",
      "[3 rows x 24 columns]\n",
      "0    Led by Woody, Andy's toys live happily in his ...\n",
      "1    When siblings Judy and Peter discover an encha...\n",
      "2    A family wedding reignites the ancient feud be...\n",
      "3    Cheated on, mistreated and stepped on, the wom...\n",
      "4    Just when George Banks has recovered from his ...\n",
      "Name: overview, dtype: object\n"
     ]
    }
   ],
   "source": [
    "# Import Pandas\n",
    "import pandas as pd\n",
    "#Import TfIdfVectorizer from scikit-learn\n",
    "from sklearn.feature_extraction.text import TfidfVectorizer\n",
    "# Import linear_kernel\n",
    "from sklearn.metrics.pairwise import linear_kernel\n",
    "\n",
    "# Load Movies Metadata\n",
    "metadata = pd.read_csv('./movies_metadata.csv', low_memory=False)\n",
    "# Print the first three rows\n",
    "print(metadata.head(3))\n",
    "#Print plot overviews of the first 5 movies.\n",
    "print(metadata['overview'].head())\n"
   ]
  },
  {
   "cell_type": "code",
   "execution_count": 17,
   "metadata": {},
   "outputs": [],
   "source": [
    "#Replace NaN with an empty string\n",
    "metadata['overview'] = metadata['overview'].fillna('')"
   ]
  },
  {
   "cell_type": "code",
   "execution_count": 19,
   "metadata": {},
   "outputs": [
    {
     "name": "stdout",
     "output_type": "stream",
     "text": [
      "(45466, 75827)\n",
      "['avails' 'avaks' 'avalanche' 'avalanches' 'avallone' 'avalon' 'avant'\n",
      " 'avanthika' 'avanti' 'avaracious']\n"
     ]
    }
   ],
   "source": [
    "#Define a TF-IDF Vectorizer Object. Remove all english stop words such as 'the', 'a'\n",
    "tfidf = TfidfVectorizer(stop_words='english')\n",
    "#Construct the required TF-IDF matrix by fitting and transforming the data\n",
    "tfidf_matrix = tfidf.fit_transform(metadata['overview'])\n",
    "#Output the shape of tfidf_matrix\n",
    "print(tfidf_matrix.shape)\n",
    "#Array mapping from feature integer indices to feature name.\n",
    "print(tfidf.get_feature_names_out()[5000:5010])"
   ]
  },
  {
   "cell_type": "code",
   "execution_count": 20,
   "metadata": {},
   "outputs": [
    {
     "name": "stdout",
     "output_type": "stream",
     "text": [
      "cosine similiarity matrix shape: (45466, 45466)\n",
      "title\n",
      "Toy Story                      0\n",
      "Jumanji                        1\n",
      "Grumpier Old Men               2\n",
      "Waiting to Exhale              3\n",
      "Father of the Bride Part II    4\n",
      "Heat                           5\n",
      "Sabrina                        6\n",
      "Tom and Huck                   7\n",
      "Sudden Death                   8\n",
      "GoldenEye                      9\n",
      "dtype: int64\n"
     ]
    }
   ],
   "source": [
    "# Compute the cosine similarity matrix\n",
    "cosine_sim = linear_kernel(tfidf_matrix, tfidf_matrix)\n",
    "print('cosine similiarity matrix shape:', cosine_sim.shape)\n",
    "#Construct a reverse map of indices and movie titles\n",
    "indices = pd.Series(metadata.index, index=metadata['title']).drop_duplicates()\n",
    "print(indices[:10])"
   ]
  },
  {
   "cell_type": "code",
   "execution_count": 23,
   "metadata": {},
   "outputs": [
    {
     "data": {
      "text/plain": [
       "6793        Father of the Bride\n",
       "6571                      Kuffs\n",
       "6306            North to Alaska\n",
       "19801                   Babbitt\n",
       "34466         You're Killing Me\n",
       "13611       The Magic of Méliès\n",
       "5005                    Wendigo\n",
       "27974          I Start Counting\n",
       "43887    George of the Jungle 2\n",
       "7097         The Out of Towners\n",
       "Name: title, dtype: object"
      ]
     },
     "execution_count": 23,
     "metadata": {},
     "output_type": "execute_result"
    }
   ],
   "source": [
    "# Function that takes in movie title as input and outputs most similar movies\n",
    "def get_recommendations(title, cosine_sim=cosine_sim):\n",
    "    # Get the index of the movie that matches the title\n",
    "    idx = indices[title]\n",
    "    # Get the pairwsie similarity scores of all movies with that movie\n",
    "    sim_scores = list(enumerate(cosine_sim[idx]))\n",
    "    # Sort the movies based on the similarity scores\n",
    "    sim_scores = sorted(sim_scores, key=lambda x: x[1], reverse=True)\n",
    "    # Get the scores of the 10 most similar movies\n",
    "    sim_scores = sim_scores[1:11]\n",
    "    # Get the movie indices\n",
    "    movie_indices = [i[0] for i in sim_scores]\n",
    "    # Return the top 10 most similar movies\n",
    "    return metadata['title'].iloc[movie_indices]\n",
    "\n",
    "get_recommendations('Father of the Bride Part II')"
   ]
  },
  {
   "cell_type": "code",
   "execution_count": null,
   "metadata": {},
   "outputs": [],
   "source": []
  }
 ],
 "metadata": {
  "kernelspec": {
   "display_name": ".venv",
   "language": "python",
   "name": "python3"
  },
  "language_info": {
   "codemirror_mode": {
    "name": "ipython",
    "version": 3
   },
   "file_extension": ".py",
   "mimetype": "text/x-python",
   "name": "python",
   "nbconvert_exporter": "python",
   "pygments_lexer": "ipython3",
   "version": "3.9.6"
  }
 },
 "nbformat": 4,
 "nbformat_minor": 2
}
